{
 "cells": [
  {
   "cell_type": "markdown",
   "metadata": {},
   "source": [
    "# The European Social Survey\n",
    "The European Social Survey (ESS) is an academically-driven multi-country survey, which has been administered in over 30 countries to date. Its three aims are, firstly - to monitor and interpret changing public attitudes and values within Europe and to investigate how they interact with Europe's changing institutions, secondly - to advance and consolidate improved methods of cross-national survey measurement in Europe and beyond, and thirdly - to develop a series of European social indicators, including attitudinal indicators.\n",
    "\n",
    "The following analysis involves data from countries that have been included in the integrated ESS files in two or more rounds, and all variables from questions that have been asked in more than one round (2012 and 2014).\n",
    "___\n",
    "+ **Kind of Data:**\n",
    "Survey data\n",
    "+ **Unit of Analysis:** Individuals\n",
    "+ **Universe:** All persons aged 15 and over resident within private households, regardless of their nationality, citizenship, language or legal status, in the participating countries."
   ]
  },
  {
   "cell_type": "code",
   "execution_count": 339,
   "metadata": {},
   "outputs": [],
   "source": [
    "%matplotlib inline\n",
    "import pandas as pd\n",
    "import numpy as np\n",
    "import matplotlib.pyplot as plt\n",
    "import seaborn as sns\n",
    "import scipy.stats as stats\n",
    "import warnings\n",
    "warnings.filterwarnings('ignore')"
   ]
  },
  {
   "cell_type": "code",
   "execution_count": 340,
   "metadata": {},
   "outputs": [],
   "source": [
    "data = pd.read_csv('https://raw.githubusercontent.com/Thinkful-Ed/data-201-resources/master/ESS_practice_data/ESSdata_Thinkful.csv')"
   ]
  },
  {
   "cell_type": "code",
   "execution_count": 341,
   "metadata": {},
   "outputs": [
    {
     "name": "stdout",
     "output_type": "stream",
     "text": [
      "<class 'pandas.core.frame.DataFrame'>\n",
      "RangeIndex: 8594 entries, 0 to 8593\n",
      "Data columns (total 13 columns):\n",
      "cntry      8594 non-null object\n",
      "idno       8594 non-null float64\n",
      "year       8594 non-null int64\n",
      "tvtot      8594 non-null float64\n",
      "ppltrst    8594 non-null float64\n",
      "pplfair    8594 non-null float64\n",
      "pplhlp     8594 non-null float64\n",
      "happy      8594 non-null float64\n",
      "sclmeet    8594 non-null float64\n",
      "sclact     8594 non-null float64\n",
      "gndr       8594 non-null float64\n",
      "agea       8594 non-null float64\n",
      "partner    8594 non-null float64\n",
      "dtypes: float64(11), int64(1), object(1)\n",
      "memory usage: 873.0+ KB\n"
     ]
    }
   ],
   "source": [
    "# fill nan values with a float rounded to zero decimal places\n",
    "data.fillna(round(data.mean(),0), inplace=True)\n",
    "data.info()"
   ]
  },
  {
   "cell_type": "code",
   "execution_count": 342,
   "metadata": {},
   "outputs": [
    {
     "data": {
      "text/html": [
       "<div>\n",
       "<style scoped>\n",
       "    .dataframe tbody tr th:only-of-type {\n",
       "        vertical-align: middle;\n",
       "    }\n",
       "\n",
       "    .dataframe tbody tr th {\n",
       "        vertical-align: top;\n",
       "    }\n",
       "\n",
       "    .dataframe thead th {\n",
       "        text-align: right;\n",
       "    }\n",
       "</style>\n",
       "<table border=\"1\" class=\"dataframe\">\n",
       "  <thead>\n",
       "    <tr style=\"text-align: right;\">\n",
       "      <th></th>\n",
       "      <th>country</th>\n",
       "      <th>idno</th>\n",
       "      <th>year</th>\n",
       "      <th>tv_time</th>\n",
       "      <th>ppl_trust</th>\n",
       "      <th>ppl_fair</th>\n",
       "      <th>ppl_help</th>\n",
       "      <th>happy</th>\n",
       "      <th>meetup</th>\n",
       "      <th>activities</th>\n",
       "      <th>is_male</th>\n",
       "      <th>age</th>\n",
       "      <th>partner</th>\n",
       "    </tr>\n",
       "  </thead>\n",
       "  <tbody>\n",
       "    <tr>\n",
       "      <th>0</th>\n",
       "      <td>Switzerland</td>\n",
       "      <td>5.0</td>\n",
       "      <td>2012</td>\n",
       "      <td>3.0</td>\n",
       "      <td>3.0</td>\n",
       "      <td>10.0</td>\n",
       "      <td>5.0</td>\n",
       "      <td>8.0</td>\n",
       "      <td>5.0</td>\n",
       "      <td>4.0</td>\n",
       "      <td>0</td>\n",
       "      <td>60.0</td>\n",
       "      <td>1</td>\n",
       "    </tr>\n",
       "    <tr>\n",
       "      <th>1</th>\n",
       "      <td>Switzerland</td>\n",
       "      <td>25.0</td>\n",
       "      <td>2012</td>\n",
       "      <td>6.0</td>\n",
       "      <td>5.0</td>\n",
       "      <td>7.0</td>\n",
       "      <td>5.0</td>\n",
       "      <td>9.0</td>\n",
       "      <td>3.0</td>\n",
       "      <td>2.0</td>\n",
       "      <td>0</td>\n",
       "      <td>59.0</td>\n",
       "      <td>1</td>\n",
       "    </tr>\n",
       "    <tr>\n",
       "      <th>2</th>\n",
       "      <td>Switzerland</td>\n",
       "      <td>26.0</td>\n",
       "      <td>2012</td>\n",
       "      <td>1.0</td>\n",
       "      <td>8.0</td>\n",
       "      <td>8.0</td>\n",
       "      <td>8.0</td>\n",
       "      <td>7.0</td>\n",
       "      <td>6.0</td>\n",
       "      <td>3.0</td>\n",
       "      <td>1</td>\n",
       "      <td>24.0</td>\n",
       "      <td>0</td>\n",
       "    </tr>\n",
       "    <tr>\n",
       "      <th>3</th>\n",
       "      <td>Switzerland</td>\n",
       "      <td>28.0</td>\n",
       "      <td>2012</td>\n",
       "      <td>4.0</td>\n",
       "      <td>6.0</td>\n",
       "      <td>6.0</td>\n",
       "      <td>7.0</td>\n",
       "      <td>10.0</td>\n",
       "      <td>6.0</td>\n",
       "      <td>2.0</td>\n",
       "      <td>0</td>\n",
       "      <td>64.0</td>\n",
       "      <td>1</td>\n",
       "    </tr>\n",
       "    <tr>\n",
       "      <th>4</th>\n",
       "      <td>Switzerland</td>\n",
       "      <td>29.0</td>\n",
       "      <td>2012</td>\n",
       "      <td>5.0</td>\n",
       "      <td>6.0</td>\n",
       "      <td>7.0</td>\n",
       "      <td>5.0</td>\n",
       "      <td>8.0</td>\n",
       "      <td>7.0</td>\n",
       "      <td>2.0</td>\n",
       "      <td>0</td>\n",
       "      <td>55.0</td>\n",
       "      <td>1</td>\n",
       "    </tr>\n",
       "  </tbody>\n",
       "</table>\n",
       "</div>"
      ],
      "text/plain": [
       "       country  idno  year  tv_time  ppl_trust  ppl_fair  ppl_help  happy  \\\n",
       "0  Switzerland   5.0  2012      3.0        3.0      10.0       5.0    8.0   \n",
       "1  Switzerland  25.0  2012      6.0        5.0       7.0       5.0    9.0   \n",
       "2  Switzerland  26.0  2012      1.0        8.0       8.0       8.0    7.0   \n",
       "3  Switzerland  28.0  2012      4.0        6.0       6.0       7.0   10.0   \n",
       "4  Switzerland  29.0  2012      5.0        6.0       7.0       5.0    8.0   \n",
       "\n",
       "   meetup  activities  is_male   age  partner  \n",
       "0     5.0         4.0        0  60.0        1  \n",
       "1     3.0         2.0        0  59.0        1  \n",
       "2     6.0         3.0        1  24.0        0  \n",
       "3     6.0         2.0        0  64.0        1  \n",
       "4     7.0         2.0        0  55.0        1  "
      ]
     },
     "execution_count": 342,
     "metadata": {},
     "output_type": "execute_result"
    }
   ],
   "source": [
    "## ONLY RUN  THIS CELL ONCE ##\n",
    "\n",
    "data.rename(columns = {'cntry':'country', 'tvtot':'tv_time', 'ppltrst':'ppl_trust', 'pplhlp':'ppl_help', \n",
    "                       'pplfair':'ppl_fair', 'sclmeet':'meetup', 'sclact':'activities', 'agea':'age'}, inplace=True)\n",
    "data.country.replace(to_replace=['CH', 'CZ', 'DE', 'ES', 'NO', 'SE'], \n",
    "                     value=['Switzerland','Czech Republic','Germany','Spain','Norway','Sweden'], inplace=True)\n",
    "\n",
    "data.year.replace([6,7],['2012','2014'], inplace=True)\n",
    "data.partner = pd.get_dummies(data.partner, drop_first=False)\n",
    "data.gndr.replace([1.0,2.0],['male','female'], inplace=True)\n",
    "data.gndr = pd.get_dummies(data.gndr, drop_first=True)\n",
    "data.rename(columns = {'gndr':'is_male'}, inplace=True)\n",
    "data.head()"
   ]
  },
  {
   "cell_type": "markdown",
   "metadata": {},
   "source": [
    "## 1. Did people become less trusting from 2012 to 2014? Compute results for each country in the sample."
   ]
  },
  {
   "cell_type": "code",
   "execution_count": 404,
   "metadata": {},
   "outputs": [
    {
     "data": {
      "image/png": "[encoded data removed]",
      "text/plain": [
       "<Figure size 1080x576 with 6 Axes>"
      ]
     },
     "metadata": {},
     "output_type": "display_data"
    }
   ],
   "source": [
    "with plt.style.context('dark_background'):\n",
    "    plt.figure(figsize=(15,8))\n",
    "    for idx, country in enumerate(data.country.unique()):\n",
    "        plt.subplot(2,3,idx+1)\n",
    "        plt.hist(data.ppl_trust[data.country==country][data.year=='2012'], bins=np.arange(12)-0.5, rwidth=.9, color='white')\n",
    "        plt.hist(data.ppl_trust[data.country==country][data.year=='2014'], bins=np.arange(12)-0.5, rwidth=.9, color='c', alpha=0.5)\n",
    "        plt.title(country, size=18, color='c')\n",
    "        plt.xticks(np.arange(11))\n",
    "        plt.legend(labels=['2012','2014'])\n",
    "        \n",
    "    plt.tight_layout()\n",
    "    plt.show()"
   ]
  },
  {
   "cell_type": "markdown",
   "metadata": {},
   "source": [
    "> It seems the distribution, in each year and for each country, with the possible exception of Germany, seems normally distributed for the most part. We'll test our perception with the Shapiro-Wilk test for normality. The Shapiro-Wilk test tests the null hypothesis that the data was drawn from a normal distribution."
   ]
  },
  {
   "cell_type": "code",
   "execution_count": 397,
   "metadata": {},
   "outputs": [
    {
     "name": "stdout",
     "output_type": "stream",
     "text": [
      "Switzerland/2012: pvalue = 3.4958809444132896e-15\n",
      "Switzerland/2014: pvalue = 7.692136586977955e-15\n",
      "------------------------------------------------------------\n",
      "Czech Republic/2012: pvalue = 1.0968960462154342e-10\n",
      "Czech Republic/2014: pvalue = 6.91086965431964e-10\n",
      "------------------------------------------------------------\n",
      "Germany/2012: pvalue = 0.1178363636136055\n",
      "Germany/2014: pvalue = 0.4519253373146057\n",
      "------------------------------------------------------------\n",
      "Spain/2012: pvalue = 5.989953442559737e-20\n",
      "Spain/2014: pvalue = 3.623642153160767e-16\n",
      "------------------------------------------------------------\n",
      "Norway/2012: pvalue = 4.746945517161123e-19\n",
      "Norway/2014: pvalue = 5.3375301406474455e-18\n",
      "------------------------------------------------------------\n",
      "Sweden/2012: pvalue = 2.3709762240942997e-19\n",
      "Sweden/2014: pvalue = 1.0416553104982269e-18\n",
      "------------------------------------------------------------\n"
     ]
    }
   ],
   "source": [
    "# Perform the Shapiro-Wilk test for normality.\n",
    "\n",
    "for country in data.country.unique():\n",
    "    for year in ['2012','2014']:\n",
    "        print(f'{country}/{year}: pvalue = {stats.shapiro(data.ppl_trust[data.country==country][data.year==year])[1]}')\n",
    "    print('-'*60)"
   ]
  },
  {
   "cell_type": "markdown",
   "metadata": {},
   "source": [
    "> We reject the null hypothesis of a normal distribution, except in Germany's case (with the smallest sample size of just 14 observations per year). Therefore, we'll use a non-parametric test. First, however, let's run a paired t-test for Germany to calculate the **two related** samples of scores."
   ]
  },
  {
   "cell_type": "code",
   "execution_count": 401,
   "metadata": {},
   "outputs": [
    {
     "name": "stdout",
     "output_type": "stream",
     "text": [
      "Germany: pvalue = 0.0012273332478439885\n"
     ]
    }
   ],
   "source": [
    "print(f\"Germany: pvalue = {stats.ttest_rel(data.ppl_trust[data.country=='Germany'][data.year=='2012'], data.happy[data.country=='Germany'][data.year=='2014'])[1]}\")"
   ]
  },
  {
   "cell_type": "markdown",
   "metadata": {},
   "source": [
    "> According to these results, there *is* a significant difference in Germany's willingness to trust others from 2012 to 2014.\n",
    "### Non-Parametric comparisons (Kruskal-Wallace Test)"
   ]
  },
  {
   "cell_type": "code",
   "execution_count": 402,
   "metadata": {},
   "outputs": [
    {
     "name": "stdout",
     "output_type": "stream",
     "text": [
      "Switzerland: pvalue = 0.5828586111442048\n",
      "Czech Republic: pvalue = 0.4871821543737458\n",
      "Germany: pvalue = 0.8517300191250199\n",
      "Spain: pvalue = 0.004465198799904911\n",
      "Norway: pvalue = 0.6202917970862132\n",
      "Sweden: pvalue = 0.038242393802365784\n"
     ]
    }
   ],
   "source": [
    "# Print the probability of getting this result if the groups were not different.\n",
    "for country in data.country.unique():\n",
    "    print(f\"{country}: pvalue = {stats.kruskal(data.ppl_trust[data.year=='2012'][data.country==country], data.ppl_trust[data.year=='2014'][data.country==country])[1]}\")"
   ]
  },
  {
   "cell_type": "markdown",
   "metadata": {},
   "source": [
    "> At $α=0.5$, only Sweden and Spain show a significant difference in their williongness to trust people from 2012 to 2014. At $α=0.1$, none of them do. With the non-parametric test, Germany does NOT show a significant difference in willingness to trust people."
   ]
  },
  {
   "cell_type": "markdown",
   "metadata": {},
   "source": [
    "## 2. Did people become happier from 2012 to 2014? Compute results for each country in the sample."
   ]
  },
  {
   "cell_type": "code",
   "execution_count": 399,
   "metadata": {},
   "outputs": [
    {
     "data": {
      "image/png": "[encoded data removed]",
      "text/plain": [
       "<Figure size 1080x576 with 6 Axes>"
      ]
     },
     "metadata": {},
     "output_type": "display_data"
    }
   ],
   "source": [
    "with plt.style.context('dark_background'):\n",
    "    plt.figure(figsize=(15,8))\n",
    "    for idx, country in enumerate(data.country.unique()):\n",
    "        plt.subplot(2,3,idx+1)\n",
    "        plt.hist(data.happy[data.country==country][data.year=='2012'], bins=np.arange(12)-0.5, rwidth=.9, color='white')\n",
    "        plt.hist(data.happy[data.country==country][data.year=='2014'], bins=np.arange(12)-0.5, rwidth=.9, color='r', alpha=0.5)\n",
    "        plt.title(country, size=18, color='r')\n",
    "        plt.xticks(np.arange(11))\n",
    "        plt.legend(labels=['2012','2014'])\n",
    "        \n",
    "    plt.tight_layout()\n",
    "    plt.show()"
   ]
  },
  {
   "cell_type": "markdown",
   "metadata": {},
   "source": [
    "> It seems the distribution, in each year and for each country, with the possible exception of Germany, is negatively skewed. We'll confirm with the Shapiro-Wilk test for normality. The Shapiro-Wilk test tests the null hypothesis that the data was drawn from a normal distribution."
   ]
  },
  {
   "cell_type": "code",
   "execution_count": 383,
   "metadata": {},
   "outputs": [
    {
     "name": "stdout",
     "output_type": "stream",
     "text": [
      "Switzerland/2012: pvalue = 4.3908151812478035e-24\n",
      "Switzerland/2014: pvalue = 4.494222618578247e-23\n",
      "------------------------------------------------------------\n",
      "Czech Republic/2012: pvalue = 1.1562020905844881e-14\n",
      "Czech Republic/2014: pvalue = 1.3153677340656885e-15\n",
      "------------------------------------------------------------\n",
      "Germany/2012: pvalue = 0.1986599564552307\n",
      "Germany/2014: pvalue = 0.23006466031074524\n",
      "------------------------------------------------------------\n",
      "Spain/2012: pvalue = 4.054162651620818e-27\n",
      "Spain/2014: pvalue = 3.676245276427884e-26\n",
      "------------------------------------------------------------\n",
      "Norway/2012: pvalue = 1.0794107025655545e-25\n",
      "Norway/2014: pvalue = 3.1033939472688407e-23\n",
      "------------------------------------------------------------\n",
      "Sweden/2012: pvalue = 1.8555917534188833e-23\n",
      "Sweden/2014: pvalue = 1.5563831860646677e-22\n",
      "------------------------------------------------------------\n"
     ]
    }
   ],
   "source": [
    "# Perform the Shapiro-Wilk test for normality.\n",
    "\n",
    "for country in data.country.unique():\n",
    "    for year in ['2012','2014']:\n",
    "        print(f'{country}/{year}: pvalue = {stats.shapiro(data.happy[data.country==country][data.year==year])[1]}')\n",
    "    print('-'*60)"
   ]
  },
  {
   "cell_type": "markdown",
   "metadata": {},
   "source": [
    "> As expected, we reject the null hypothesis or a normal distribution except in Germany's case. Therefore, we'll use a non-parametric test. First, however, let's run a paired t-test for Germany to calculate the **two related** samples of scores."
   ]
  },
  {
   "cell_type": "code",
   "execution_count": 384,
   "metadata": {},
   "outputs": [
    {
     "name": "stdout",
     "output_type": "stream",
     "text": [
      "Germany: pvalue = 0.4346138707734991\n"
     ]
    }
   ],
   "source": [
    "print(f\"Germany: pvalue = {stats.ttest_rel(data.happy[data.country=='Germany'][data.year=='2012'], data.happy[data.country=='Germany'][data.year=='2014'])[1]}\")"
   ]
  },
  {
   "cell_type": "markdown",
   "metadata": {},
   "source": [
    "> According to these results, there is no significant difference in Germany's happiness from 2012 to 2014.\n",
    "### Non-Parametric comparisons (Kruskal-Wallace Test)"
   ]
  },
  {
   "cell_type": "code",
   "execution_count": 390,
   "metadata": {},
   "outputs": [
    {
     "name": "stdout",
     "output_type": "stream",
     "text": [
      "Switzerland: pvalue = 0.6212723372583304\n",
      "Czech Republic: pvalue = 0.27946501634100207\n",
      "Germany: pvalue = 0.532001255058662\n",
      "Spain: pvalue = 0.04315902004796964\n",
      "Norway: pvalue = 1.3941031229053593e-05\n",
      "Sweden: pvalue = 0.8245710499149336\n"
     ]
    }
   ],
   "source": [
    "# Print the probability of getting this result if the groups were not different.\n",
    "for country in data.country.unique():\n",
    "    print(f\"{country}: pvalue = {stats.kruskal(data.happy[data.year=='2012'][data.country==country], data.happy[data.year=='2014'][data.country==country])[1]}\")"
   ]
  },
  {
   "cell_type": "markdown",
   "metadata": {},
   "source": [
    "> At $α=0.5$, only Norway and Spain show a significant difference in happiness from 2012 to 2014. At $α=0.1$, only Norway does. Notably, Germany shows a significant difference in neither the parametric nor non-parametric tests."
   ]
  },
  {
   "cell_type": "markdown",
   "metadata": {},
   "source": [
    "## 3. Who reported watching more TV in 2012, men or women?"
   ]
  },
  {
   "cell_type": "code",
   "execution_count": 408,
   "metadata": {},
   "outputs": [
    {
     "data": {
      "text/plain": [
       "3.9020427112349116"
      ]
     },
     "execution_count": 408,
     "metadata": {},
     "output_type": "execute_result"
    }
   ],
   "source": [
    "data.tv_time[data.is_male==1][data.year=='2012'].mean()"
   ]
  },
  {
   "cell_type": "code",
   "execution_count": 409,
   "metadata": {},
   "outputs": [
    {
     "data": {
      "text/plain": [
       "3.9444703686420906"
      ]
     },
     "execution_count": 409,
     "metadata": {},
     "output_type": "execute_result"
    }
   ],
   "source": [
    "data.tv_time[data.is_male==0][data.year=='2012'].mean()"
   ]
  },
  {
   "cell_type": "markdown",
   "metadata": {},
   "source": [
    "> Women reported watching slightly more television than men in 2012."
   ]
  },
  {
   "cell_type": "markdown",
   "metadata": {},
   "source": [
    "## 4. Who was more likely to believe people were fair in 2012, people living with a partner or people living alone?"
   ]
  },
  {
   "cell_type": "code",
   "execution_count": 410,
   "metadata": {},
   "outputs": [
    {
     "data": {
      "text/plain": [
       "6.082431928384931"
      ]
     },
     "execution_count": 410,
     "metadata": {},
     "output_type": "execute_result"
    }
   ],
   "source": [
    "data.ppl_fair[data.partner==1][data.year=='2012'].mean()"
   ]
  },
  {
   "cell_type": "code",
   "execution_count": 411,
   "metadata": {},
   "outputs": [
    {
     "data": {
      "text/plain": [
       "5.857673267326732"
      ]
     },
     "execution_count": 411,
     "metadata": {},
     "output_type": "execute_result"
    }
   ],
   "source": [
    "data.ppl_fair[data.partner==0][data.year=='2012'].mean()"
   ]
  },
  {
   "cell_type": "markdown",
   "metadata": {},
   "source": [
    "> People with partners were more likely to belive people were fair in 2012."
   ]
  },
  {
   "cell_type": "markdown",
   "metadata": {},
   "source": [
    "## 5. Pick three or four of the countries in the sample and compare how often people met socially in 2014. Are there differences, and if so, which countries stand out?"
   ]
  },
  {
   "cell_type": "code",
   "execution_count": 412,
   "metadata": {},
   "outputs": [
    {
     "data": {
      "text/plain": [
       "Spain             2426\n",
       "Sweden            1816\n",
       "Switzerland       1546\n",
       "Norway            1462\n",
       "Czech Republic    1316\n",
       "Germany             28\n",
       "Name: country, dtype: int64"
      ]
     },
     "execution_count": 412,
     "metadata": {},
     "output_type": "execute_result"
    }
   ],
   "source": [
    "data.country.value_counts()"
   ]
  },
  {
   "cell_type": "code",
   "execution_count": 414,
   "metadata": {},
   "outputs": [
    {
     "data": {
      "text/plain": [
       "country\n",
       "Czech Republic    4.549392\n",
       "Germany           4.714286\n",
       "Norway            5.416553\n",
       "Spain             5.244023\n",
       "Sweden            5.476872\n",
       "Switzerland       5.120310\n",
       "Name: meetup, dtype: float64"
      ]
     },
     "execution_count": 414,
     "metadata": {},
     "output_type": "execute_result"
    }
   ],
   "source": [
    "data.groupby('country')['meetup'].mean()"
   ]
  },
  {
   "cell_type": "markdown",
   "metadata": {},
   "source": [
    "+ ### We'll compare Sweden, Switzerland and Spain, as they have the highest number of observations."
   ]
  },
  {
   "cell_type": "code",
   "execution_count": 416,
   "metadata": {},
   "outputs": [
    {
     "data": {
      "text/plain": [
       "KruskalResult(statistic=21.064004219452187, pvalue=2.6669176177604354e-05)"
      ]
     },
     "execution_count": 416,
     "metadata": {},
     "output_type": "execute_result"
    }
   ],
   "source": [
    "stats.kruskal(data.meetup[data.year=='2014'][data.country=='Sweden'],\n",
    "              data.meetup[data.year=='2014'][data.country=='Switzerland'],\n",
    "              data.meetup[data.year=='2014'][data.country=='Spain'])"
   ]
  },
  {
   "cell_type": "markdown",
   "metadata": {},
   "source": [
    "> It appears that the groups differ significantly.  The test says there is a miniscule chance of getting our data if there were no systematic `meetup` differences between Sweden, Switzerland and Spain in the population. Based on our data, meetup frequency seems to differ systematically between the three countries."
   ]
  },
  {
   "cell_type": "markdown",
   "metadata": {},
   "source": [
    "## 6. Pick three or four of the countries in the sample and compare how often people took part in social activities, relative to others their age, in 2014. Are there differences, and if so, which countries stand out?"
   ]
  },
  {
   "cell_type": "code",
   "execution_count": 424,
   "metadata": {},
   "outputs": [
    {
     "data": {
      "text/plain": [
       "count    8594.000000\n",
       "mean       47.457645\n",
       "std        18.139884\n",
       "min        15.000000\n",
       "25%        33.000000\n",
       "50%        47.000000\n",
       "75%        61.000000\n",
       "max       114.000000\n",
       "Name: age, dtype: float64"
      ]
     },
     "execution_count": 424,
     "metadata": {},
     "output_type": "execute_result"
    }
   ],
   "source": [
    "data.age.describe()"
   ]
  },
  {
   "cell_type": "markdown",
   "metadata": {},
   "source": [
    "+ ### We'll use the quartile ranges as age similarity intervals, again comparing Sweden, Spain and Switzerland."
   ]
  },
  {
   "cell_type": "code",
   "execution_count": 445,
   "metadata": {},
   "outputs": [
    {
     "data": {
      "text/plain": [
       "KruskalResult(statistic=5.811334798886218, pvalue=0.05471226347957819)"
      ]
     },
     "execution_count": 445,
     "metadata": {},
     "output_type": "execute_result"
    }
   ],
   "source": [
    "# Ages 15 to 33\n",
    "stats.kruskal(data.activities[data.age < 33][data.year=='2014'][data.country=='Sweden'],\n",
    "              data.activities[data.age < 33][data.year=='2014'][data.country=='Switzerland'],\n",
    "              data.activities[data.age < 33][data.year=='2014'][data.country=='Spain'])"
   ]
  },
  {
   "cell_type": "code",
   "execution_count": 446,
   "metadata": {},
   "outputs": [
    {
     "data": {
      "text/plain": [
       "KruskalResult(statistic=6.061267429700096, pvalue=0.04828502948829624)"
      ]
     },
     "execution_count": 446,
     "metadata": {},
     "output_type": "execute_result"
    }
   ],
   "source": [
    "# Ages 33 to 47\n",
    "stats.kruskal(data.activities[data.age > 33][data.age < 47][data.year=='2014'][data.country=='Sweden'],\n",
    "              data.activities[data.age > 33][data.age < 47][data.year=='2014'][data.country=='Switzerland'],\n",
    "              data.activities[data.age > 33][data.age < 47][data.year=='2014'][data.country=='Spain'])"
   ]
  },
  {
   "cell_type": "code",
   "execution_count": 447,
   "metadata": {},
   "outputs": [
    {
     "data": {
      "text/plain": [
       "KruskalResult(statistic=2.101758607175314, pvalue=0.3496301828347873)"
      ]
     },
     "execution_count": 447,
     "metadata": {},
     "output_type": "execute_result"
    }
   ],
   "source": [
    "# Ages 47 to 61\n",
    "stats.kruskal(data.activities[data.age > 47][data.age < 61][data.year=='2014'][data.country=='Sweden'],\n",
    "              data.activities[data.age > 47][data.age < 61][data.year=='2014'][data.country=='Switzerland'],\n",
    "              data.activities[data.age > 47][data.age < 61][data.year=='2014'][data.country=='Spain'])"
   ]
  },
  {
   "cell_type": "code",
   "execution_count": 448,
   "metadata": {},
   "outputs": [
    {
     "data": {
      "text/plain": [
       "KruskalResult(statistic=33.68056202120329, pvalue=4.8568968869219446e-08)"
      ]
     },
     "execution_count": 448,
     "metadata": {},
     "output_type": "execute_result"
    }
   ],
   "source": [
    "# Ages 61 and up\n",
    "stats.kruskal(data.activities[data.age > 61][data.year=='2014'][data.country=='Sweden'],\n",
    "              data.activities[data.age > 61][data.year=='2014'][data.country=='Switzerland'],\n",
    "              data.activities[data.age > 61][data.year=='2014'][data.country=='Spain'])"
   ]
  },
  {
   "cell_type": "markdown",
   "metadata": {},
   "source": [
    "> At $α=0.5$, the most significant differences in activity level, between the three countries, occur over the age of 61 . In fact, at $α=0.1$ , that's the only age range with significant differences in activity level. At $α=0.5$, the age range between 33 and 44 years old also shows significant activity level differences between the three countries, ."
   ]
  },
  {
   "cell_type": "code",
   "execution_count": null,
   "metadata": {},
   "outputs": [],
   "source": []
  },
  {
   "cell_type": "code",
   "execution_count": null,
   "metadata": {},
   "outputs": [],
   "source": []
  },
  {
   "cell_type": "code",
   "execution_count": null,
   "metadata": {},
   "outputs": [],
   "source": []
  },
  {
   "cell_type": "code",
   "execution_count": null,
   "metadata": {},
   "outputs": [],
   "source": []
  },
  {
   "cell_type": "code",
   "execution_count": null,
   "metadata": {},
   "outputs": [],
   "source": []
  },
  {
   "cell_type": "code",
   "execution_count": null,
   "metadata": {},
   "outputs": [],
   "source": []
  },
  {
   "cell_type": "code",
   "execution_count": null,
   "metadata": {},
   "outputs": [],
   "source": []
  },
  {
   "cell_type": "code",
   "execution_count": null,
   "metadata": {},
   "outputs": [],
   "source": []
  },
  {
   "cell_type": "markdown",
   "metadata": {},
   "source": [
    "# Superfluous Boxplot visualization vvvvvvvvvvvvv (practice)"
   ]
  },
  {
   "cell_type": "code",
   "execution_count": 344,
   "metadata": {},
   "outputs": [
    {
     "name": "stdout",
     "output_type": "stream",
     "text": [
      "country\n",
      "Czech Republic    6.858663\n",
      "Germany           7.642857\n",
      "Norway            8.082763\n",
      "Spain             7.484749\n",
      "Sweden            7.927313\n",
      "Switzerland       8.102199\n",
      "Name: happy, dtype: float64\n"
     ]
    },
    {
     "data": {
      "image/png": "[encoded data removed]",
      "text/plain": [
       "<Figure size 1080x576 with 6 Axes>"
      ]
     },
     "metadata": {},
     "output_type": "display_data"
    }
   ],
   "source": [
    "# Printing the means for each group.\n",
    "print(data.groupby('country').happy.mean())\n",
    "\n",
    "with plt.style.context('dark_background'):\n",
    "    plt.figure(figsize=(15,8))\n",
    "    for idx, country in enumerate(data.country.unique()):\n",
    "        plt.subplot(2,3,idx+1)\n",
    "        plt.boxplot(data.happy[data.country==country], patch_artist=True, \n",
    "                    boxprops=dict(facecolor='w', color='w'),\n",
    "                    capprops=dict(color='r', linewidth=3),\n",
    "                    whiskerprops=dict(color='r', linewidth=3),\n",
    "                    flierprops=dict(markerfacecolor='w', markersize=12),\n",
    "                    medianprops=dict(color='r'))\n",
    "        plt.title(country, size=18, color='r')\n",
    "\n",
    "    plt.tight_layout()\n",
    "    plt.show()"
   ]
  },
  {
   "cell_type": "code",
   "execution_count": null,
   "metadata": {},
   "outputs": [],
   "source": []
  }
 ],
 "metadata": {
  "kernelspec": {
   "display_name": "Python 3",
   "language": "python",
   "name": "python3"
  },
  "language_info": {
   "codemirror_mode": {
    "name": "ipython",
    "version": 3
   },
   "file_extension": ".py",
   "mimetype": "text/x-python",
   "name": "python",
   "nbconvert_exporter": "python",
   "pygments_lexer": "ipython3",
   "version": "3.6.8"
  }
 },
 "nbformat": 4,
 "nbformat_minor": 2
}
