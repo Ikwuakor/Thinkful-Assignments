{
 "cells": [
  {
   "cell_type": "code",
   "execution_count": 78,
   "metadata": {},
   "outputs": [],
   "source": [
    "import time\n",
    "import random\n",
    "\n",
    "# Set seed.\n",
    "random.seed(a=100)\n",
    "\n",
    "# Create our default list.\n",
    "short_list = list(random.sample(range(1000000), 10))\n",
    "long_list = list(random.sample(range(1000000), 10000))"
   ]
  },
  {
   "cell_type": "code",
   "execution_count": 79,
   "metadata": {},
   "outputs": [],
   "source": [
    "# Python program for implementation of heap Sort \n",
    "  \n",
    "# To heapify subtree rooted at index i. \n",
    "# n is size of heap \n",
    "def heapify(arr, n, i): \n",
    "    largest = i  # Initialize largest as root \n",
    "    l = 2 * i + 1     # left = 2*i + 1 \n",
    "    r = 2 * i + 2     # right = 2*i + 2 \n",
    "  \n",
    "    # See if left child of root exists and is \n",
    "    # greater than root \n",
    "    if l < n and arr[i] < arr[l]: \n",
    "        largest = l \n",
    "  \n",
    "    # See if right child of root exists and is \n",
    "    # greater than root \n",
    "    if r < n and arr[largest] < arr[r]: \n",
    "        largest = r \n",
    "  \n",
    "    # Change root, if needed \n",
    "    if largest != i: \n",
    "        arr[i],arr[largest] = arr[largest],arr[i]  # swap \n",
    "  \n",
    "        # Heapify the root. \n",
    "        heapify(arr, n, largest) \n",
    "        \n",
    "# The main function to sort an array of given size \n",
    "def heapSort(arr): \n",
    "    n = len(arr) \n",
    "    \n",
    "    # Build a maxheap. \n",
    "    # Since last parent will be at ((n//2)-1) we can start at that location. \n",
    "    for i in range(n // 2 - 1, -1, -1):\n",
    "        heapify(arr, n, i) \n",
    "  \n",
    "    # One by one extract elements \n",
    "    for i in range(n-1, 0, -1):\n",
    "        arr[i], arr[0] = arr[0], arr[i]   # swap \n",
    "        heapify(arr, i, 0) "
   ]
  },
  {
   "cell_type": "code",
   "execution_count": 83,
   "metadata": {},
   "outputs": [
    {
     "name": "stdout",
     "output_type": "stream",
     "text": [
      "Duration is: 7.176399230957031e-05\n"
     ]
    }
   ],
   "source": [
    "start = time.time()\n",
    "# Driver code to test above \n",
    "heapSort(short_list) \n",
    "print (f\"Duration is: {time.time()- start}\")"
   ]
  },
  {
   "cell_type": "code",
   "execution_count": 84,
   "metadata": {},
   "outputs": [
    {
     "name": "stdout",
     "output_type": "stream",
     "text": [
      "Duration is: 0.062308549880981445\n"
     ]
    }
   ],
   "source": [
    "start = time.time()\n",
    "# Driver code to test above \n",
    "heapSort(long_list) \n",
    "print (f\"Duration is: {time.time()- start}\")"
   ]
  },
  {
   "cell_type": "markdown",
   "metadata": {},
   "source": [
    "The heapsort Algorithm sorts at a worst-case **O(n log n)** since from Wiki:\n",
    "\n",
    "> \"like selection sort, heapsort divides its input into a sorted and an unsorted region, and it iteratively shrinks the unsorted region by extracting the largest element from it and inserting it into the sorted region. Unlike selection sort, heapsort does not waste time with a linear-time scan of the unsorted region; rather, heap sort maintains the unsorted region in a heap data structure to more quickly find the largest element in each step.\""
   ]
  },
  {
   "cell_type": "code",
   "execution_count": null,
   "metadata": {},
   "outputs": [],
   "source": []
  },
  {
   "cell_type": "code",
   "execution_count": null,
   "metadata": {},
   "outputs": [],
   "source": []
  },
  {
   "cell_type": "code",
   "execution_count": null,
   "metadata": {},
   "outputs": [],
   "source": []
  },
  {
   "cell_type": "code",
   "execution_count": null,
   "metadata": {},
   "outputs": [],
   "source": []
  },
  {
   "cell_type": "markdown",
   "metadata": {},
   "source": [
    "# Junk Attempts (decent tries)"
   ]
  },
  {
   "cell_type": "code",
   "execution_count": 73,
   "metadata": {},
   "outputs": [
    {
     "name": "stdout",
     "output_type": "stream",
     "text": [
      "Sorted array is:\n",
      "[183236, 366725, 412125, 477025, 481850, 739784, 767514, 808225, 997948, 152745]\n"
     ]
    }
   ],
   "source": [
    "import copy\n",
    "\n",
    "def heapsort(input_list):\n",
    "    lst = copy.deepcopy(input_list)\n",
    "    \n",
    "    if len(lst) < 2:\n",
    "        return sort_list.insert(0, lst[0])\n",
    "    \n",
    "    for i in range(1, len(lst)):\n",
    "        while i > 0:\n",
    "            if lst[i] > lst[(i-1)//2]: # lst[(i-1)//2] is the parent node\n",
    "                lst[i], lst[(i-1)//2] = lst[(i-1)//2], lst[i]\n",
    "                i = (i-1)//2\n",
    "            else:\n",
    "                i = 0 # ends the iteration of the loop if the 'if' statement doesn't require execution\n",
    "            \n",
    "# The main function to sort an array of given size \n",
    "def heap_sort(arr): \n",
    "    n = len(arr) \n",
    "\n",
    "    # Build a maxheap. \n",
    "    # Since last parent will be at ((n//2)-1) we can start at that location. \n",
    "    for i in range(n // 2 - 1, -1, -1):\n",
    "        heapsort(arr) \n",
    "  \n",
    "    # One by one extract elements \n",
    "    for i in range(n-1, 0, -1):\n",
    "        arr[i], arr[0] = arr[0], arr[i]   # swap \n",
    "        heapsort(arr) \n",
    "    '''sort_list.insert(0, lst[0])\n",
    "    lst.remove(lst[0])\n",
    "    heapsort(lst, sort_list)'''\n",
    "# Driver code to test above \n",
    "heap_sort(short_list) \n",
    "print (\"Sorted array is:\") \n",
    "print (f'{short_list}')"
   ]
  },
  {
   "cell_type": "code",
   "execution_count": 74,
   "metadata": {},
   "outputs": [
    {
     "name": "stdout",
     "output_type": "stream",
     "text": [
      "Duration = 7.176399230957031e-05\n"
     ]
    }
   ],
   "source": [
    "start = time.time()\n",
    "heapsort(short_list)\n",
    "print(f'Duration = {time.time() - start}')"
   ]
  },
  {
   "cell_type": "code",
   "execution_count": 17,
   "metadata": {},
   "outputs": [
    {
     "ename": "RecursionError",
     "evalue": "maximum recursion depth exceeded while calling a Python object",
     "output_type": "error",
     "traceback": [
      "\u001b[0;31m---------------------------------------------------------------------------\u001b[0m",
      "\u001b[0;31mRecursionError\u001b[0m                            Traceback (most recent call last)",
      "\u001b[0;32m<ipython-input-17-10c6484db381>\u001b[0m in \u001b[0;36m<module>\u001b[0;34m\u001b[0m\n\u001b[1;32m      1\u001b[0m \u001b[0mstart\u001b[0m \u001b[0;34m=\u001b[0m \u001b[0mtime\u001b[0m\u001b[0;34m.\u001b[0m\u001b[0mtime\u001b[0m\u001b[0;34m(\u001b[0m\u001b[0;34m)\u001b[0m\u001b[0;34m\u001b[0m\u001b[0;34m\u001b[0m\u001b[0m\n\u001b[0;32m----> 2\u001b[0;31m \u001b[0mheapsort\u001b[0m\u001b[0;34m(\u001b[0m\u001b[0mlong_list\u001b[0m\u001b[0;34m)\u001b[0m\u001b[0;34m\u001b[0m\u001b[0;34m\u001b[0m\u001b[0m\n\u001b[0m\u001b[1;32m      3\u001b[0m \u001b[0mprint\u001b[0m\u001b[0;34m(\u001b[0m\u001b[0;34mf'Duration = {time.time() - start}'\u001b[0m\u001b[0;34m)\u001b[0m\u001b[0;34m\u001b[0m\u001b[0;34m\u001b[0m\u001b[0m\n",
      "\u001b[0;32m<ipython-input-16-62dedc131d27>\u001b[0m in \u001b[0;36mheapsort\u001b[0;34m(input_list, sort_list)\u001b[0m\n\u001b[1;32m     16\u001b[0m     \u001b[0msort_list\u001b[0m\u001b[0;34m.\u001b[0m\u001b[0minsert\u001b[0m\u001b[0;34m(\u001b[0m\u001b[0;36m0\u001b[0m\u001b[0;34m,\u001b[0m \u001b[0mlst\u001b[0m\u001b[0;34m[\u001b[0m\u001b[0;36m0\u001b[0m\u001b[0;34m]\u001b[0m\u001b[0;34m)\u001b[0m\u001b[0;34m\u001b[0m\u001b[0;34m\u001b[0m\u001b[0m\n\u001b[1;32m     17\u001b[0m     \u001b[0mlst\u001b[0m\u001b[0;34m.\u001b[0m\u001b[0mremove\u001b[0m\u001b[0;34m(\u001b[0m\u001b[0mlst\u001b[0m\u001b[0;34m[\u001b[0m\u001b[0;36m0\u001b[0m\u001b[0;34m]\u001b[0m\u001b[0;34m)\u001b[0m\u001b[0;34m\u001b[0m\u001b[0;34m\u001b[0m\u001b[0m\n\u001b[0;32m---> 18\u001b[0;31m     \u001b[0mheapsort\u001b[0m\u001b[0;34m(\u001b[0m\u001b[0mlst\u001b[0m\u001b[0;34m,\u001b[0m \u001b[0msort_list\u001b[0m\u001b[0;34m)\u001b[0m\u001b[0;34m\u001b[0m\u001b[0;34m\u001b[0m\u001b[0m\n\u001b[0m\u001b[1;32m     19\u001b[0m     \u001b[0;32mreturn\u001b[0m \u001b[0msort_list\u001b[0m\u001b[0;34m\u001b[0m\u001b[0;34m\u001b[0m\u001b[0m\n",
      "... last 1 frames repeated, from the frame below ...\n",
      "\u001b[0;32m<ipython-input-16-62dedc131d27>\u001b[0m in \u001b[0;36mheapsort\u001b[0;34m(input_list, sort_list)\u001b[0m\n\u001b[1;32m     16\u001b[0m     \u001b[0msort_list\u001b[0m\u001b[0;34m.\u001b[0m\u001b[0minsert\u001b[0m\u001b[0;34m(\u001b[0m\u001b[0;36m0\u001b[0m\u001b[0;34m,\u001b[0m \u001b[0mlst\u001b[0m\u001b[0;34m[\u001b[0m\u001b[0;36m0\u001b[0m\u001b[0;34m]\u001b[0m\u001b[0;34m)\u001b[0m\u001b[0;34m\u001b[0m\u001b[0;34m\u001b[0m\u001b[0m\n\u001b[1;32m     17\u001b[0m     \u001b[0mlst\u001b[0m\u001b[0;34m.\u001b[0m\u001b[0mremove\u001b[0m\u001b[0;34m(\u001b[0m\u001b[0mlst\u001b[0m\u001b[0;34m[\u001b[0m\u001b[0;36m0\u001b[0m\u001b[0;34m]\u001b[0m\u001b[0;34m)\u001b[0m\u001b[0;34m\u001b[0m\u001b[0;34m\u001b[0m\u001b[0m\n\u001b[0;32m---> 18\u001b[0;31m     \u001b[0mheapsort\u001b[0m\u001b[0;34m(\u001b[0m\u001b[0mlst\u001b[0m\u001b[0;34m,\u001b[0m \u001b[0msort_list\u001b[0m\u001b[0;34m)\u001b[0m\u001b[0;34m\u001b[0m\u001b[0;34m\u001b[0m\u001b[0m\n\u001b[0m\u001b[1;32m     19\u001b[0m     \u001b[0;32mreturn\u001b[0m \u001b[0msort_list\u001b[0m\u001b[0;34m\u001b[0m\u001b[0;34m\u001b[0m\u001b[0m\n",
      "\u001b[0;31mRecursionError\u001b[0m: maximum recursion depth exceeded while calling a Python object"
     ]
    }
   ],
   "source": [
    "start = time.time()\n",
    "heapsort(long_list)\n",
    "print(f'Duration = {time.time() - start}')"
   ]
  },
  {
   "cell_type": "code",
   "execution_count": 18,
   "metadata": {},
   "outputs": [
    {
     "data": {
      "text/plain": [
       "[152745,\n",
       " 481850,\n",
       " 477025,\n",
       " 997948,\n",
       " 808225,\n",
       " 183236,\n",
       " 739784,\n",
       " 412125,\n",
       " 767514,\n",
       " 366725]"
      ]
     },
     "execution_count": 18,
     "metadata": {},
     "output_type": "execute_result"
    }
   ],
   "source": [
    "short_list"
   ]
  },
  {
   "cell_type": "code",
   "execution_count": 32,
   "metadata": {},
   "outputs": [],
   "source": [
    "def Max_Heapify(A, i):\n",
    "    left = 2*i + 1\n",
    "    right = 2*i + 2\n",
    "    largest = i\n",
    "    \n",
    "    if left <= len(A) and A[left] > A[largest]:\n",
    "        largest = left\n",
    "\n",
    "    if right <= len(A) and A[right] > A[largest]:\n",
    "        largest = right\n",
    "    \n",
    "    if largest != i:\n",
    "        A[i], A[largest] = A[largest], A[i]\n",
    "        # Recursively heapify the affected sub-tree\n",
    "        Max_Heapify(A, largest)\n",
    "        \n",
    "# main function to do heap sort \n",
    "def heap_sort(A) \n",
    "    # Build heap (rearrange array) \n",
    "    i = int(len(A)/2 - 1)\n",
    "    for i >= 0:\n",
    "        i -= 1\n",
    "        Max_Heapify(A, i); \n",
    "  \n",
    "    # One by one extract an element from heap\n",
    "    i = int(len(A)-1)\n",
    "    for i>0:\n",
    "        i -= 1\n",
    "        # Move current root to end \n",
    "        swap(arr[0], arr[i]); \n",
    "  \n",
    "        // call max heapify on the reduced heap \n",
    "        heapify(arr, i, 0); \n",
    "    } \n",
    "    return A"
   ]
  },
  {
   "cell_type": "code",
   "execution_count": 34,
   "metadata": {},
   "outputs": [
    {
     "data": {
      "text/plain": [
       "[12, 10, 9, 8, 7, 6, 1, 2, 3, 55]"
      ]
     },
     "execution_count": 34,
     "metadata": {},
     "output_type": "execute_result"
    }
   ],
   "source": [
    "Max_Heapify([10,12,9,8,7,6,1,2,3,55], 0)"
   ]
  },
  {
   "cell_type": "code",
   "execution_count": 1,
   "metadata": {},
   "outputs": [
    {
     "ename": "NameError",
     "evalue": "name 'Sort_da_heap' is not defined",
     "output_type": "error",
     "traceback": [
      "\u001b[0;31m---------------------------------------------------------------------------\u001b[0m",
      "\u001b[0;31mNameError\u001b[0m                                 Traceback (most recent call last)",
      "\u001b[0;32m<ipython-input-1-8bf59a506fa6>\u001b[0m in \u001b[0;36m<module>\u001b[0;34m\u001b[0m\n\u001b[0;32m----> 1\u001b[0;31m \u001b[0mSort_da_heap\u001b[0m\u001b[0;34m(\u001b[0m\u001b[0mshort_list\u001b[0m\u001b[0;34m)\u001b[0m\u001b[0;34m\u001b[0m\u001b[0;34m\u001b[0m\u001b[0m\n\u001b[0m",
      "\u001b[0;31mNameError\u001b[0m: name 'Sort_da_heap' is not defined"
     ]
    }
   ],
   "source": [
    "Sort_da_heap(short_list)"
   ]
  },
  {
   "cell_type": "code",
   "execution_count": null,
   "metadata": {},
   "outputs": [],
   "source": []
  },
  {
   "cell_type": "code",
   "execution_count": null,
   "metadata": {},
   "outputs": [],
   "source": []
  },
  {
   "cell_type": "code",
   "execution_count": null,
   "metadata": {},
   "outputs": [],
   "source": []
  },
  {
   "cell_type": "code",
   "execution_count": 64,
   "metadata": {},
   "outputs": [],
   "source": [
    "# Python program for implementation of heap Sort \n",
    "  \n",
    "# To heapify subtree rooted at index i. \n",
    "# n is size of heap \n",
    "def heapify(arr, n, i): \n",
    "    largest = i  # Initialize largest as root \n",
    "    l = 2 * i + 1     # left = 2*i + 1 \n",
    "    r = 2 * i + 2     # right = 2*i + 2 \n",
    "  \n",
    "    # See if left child of root exists and is \n",
    "    # greater than root \n",
    "    if l < n and arr[i] < arr[l]: \n",
    "        largest = l \n",
    "  \n",
    "    # See if right child of root exists and is \n",
    "    # greater than root \n",
    "    if r < n and arr[largest] < arr[r]: \n",
    "        largest = r \n",
    "  \n",
    "    # Change root, if needed \n",
    "    if largest != i: \n",
    "        arr[i],arr[largest] = arr[largest],arr[i]  # swap \n",
    "  \n",
    "        # Heapify the root. \n",
    "        heapify(arr, n, largest) \n",
    "        \n",
    "# The main function to sort an array of given size \n",
    "def heapSort(arr): \n",
    "    n = len(arr) \n",
    "    print(arr)\n",
    "    # Build a maxheap. \n",
    "    # Since last parent will be at ((n//2)-1) we can start at that location. \n",
    "    for i in range(n // 2 - 1, -1, -1):\n",
    "        heapify(arr, n, i) \n",
    "        print(f'iter {i}:{arr}')\n",
    "  \n",
    "    # One by one extract elements \n",
    "    for i in range(n-1, 0, -1):\n",
    "        arr[i], arr[0] = arr[0], arr[i]   # swap \n",
    "        print(arr)\n",
    "        heapify(arr, i, 0) "
   ]
  },
  {
   "cell_type": "code",
   "execution_count": 65,
   "metadata": {},
   "outputs": [
    {
     "name": "stdout",
     "output_type": "stream",
     "text": [
      "[152745, 481850, 477025, 997948, 808225, 183236, 739784, 412125, 767514, 366725]\n",
      "iter 4:[152745, 481850, 477025, 997948, 808225, 183236, 739784, 412125, 767514, 366725]\n",
      "iter 3:[152745, 481850, 477025, 997948, 808225, 183236, 739784, 412125, 767514, 366725]\n",
      "iter 2:[152745, 481850, 739784, 997948, 808225, 183236, 477025, 412125, 767514, 366725]\n",
      "iter 1:[152745, 997948, 739784, 767514, 808225, 183236, 477025, 412125, 481850, 366725]\n",
      "iter 0:[997948, 808225, 739784, 767514, 366725, 183236, 477025, 412125, 481850, 152745]\n",
      "[152745, 808225, 739784, 767514, 366725, 183236, 477025, 412125, 481850, 997948]\n",
      "[152745, 767514, 739784, 481850, 366725, 183236, 477025, 412125, 808225, 997948]\n",
      "[152745, 481850, 739784, 412125, 366725, 183236, 477025, 767514, 808225, 997948]\n",
      "[152745, 481850, 477025, 412125, 366725, 183236, 739784, 767514, 808225, 997948]\n",
      "[183236, 412125, 477025, 152745, 366725, 481850, 739784, 767514, 808225, 997948]\n",
      "[366725, 412125, 183236, 152745, 477025, 481850, 739784, 767514, 808225, 997948]\n",
      "[152745, 366725, 183236, 412125, 477025, 481850, 739784, 767514, 808225, 997948]\n",
      "[183236, 152745, 366725, 412125, 477025, 481850, 739784, 767514, 808225, 997948]\n",
      "[152745, 183236, 366725, 412125, 477025, 481850, 739784, 767514, 808225, 997948]\n",
      "Sorted array is:\n",
      "[152745, 183236, 366725, 412125, 477025, 481850, 739784, 767514, 808225, 997948]\n"
     ]
    }
   ],
   "source": [
    "  \n",
    "# Driver code to test above \n",
    "heapSort(short_list) \n",
    "print (\"Sorted array is:\") \n",
    "print (f'{short_list}')"
   ]
  },
  {
   "cell_type": "code",
   "execution_count": 49,
   "metadata": {},
   "outputs": [
    {
     "name": "stdout",
     "output_type": "stream",
     "text": [
      "None\n"
     ]
    }
   ],
   "source": [
    "A = heapify([10,12,9,8,7,6,1,2,3,55],10,0)\n",
    "print(A)"
   ]
  },
  {
   "cell_type": "code",
   "execution_count": null,
   "metadata": {},
   "outputs": [],
   "source": []
  }
 ],
 "metadata": {
  "kernelspec": {
   "display_name": "Python 3",
   "language": "python",
   "name": "python3"
  },
  "language_info": {
   "codemirror_mode": {
    "name": "ipython",
    "version": 3
   },
   "file_extension": ".py",
   "mimetype": "text/x-python",
   "name": "python",
   "nbconvert_exporter": "python",
   "pygments_lexer": "ipython3",
   "version": "3.6.8"
  }
 },
 "nbformat": 4,
 "nbformat_minor": 2
}
