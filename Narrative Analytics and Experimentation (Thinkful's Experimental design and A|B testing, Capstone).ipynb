{
 "cells": [
  {
   "cell_type": "code",
   "execution_count": 483,
   "metadata": {},
   "outputs": [],
   "source": [
    "import pandas as pd\n",
    "import numpy as np\n",
    "import matplotlib.pyplot as plt\n",
    "import seaborn as sns\n",
    "from scipy import stats\n",
    "\n",
    "sns.set_style('darkgrid')"
   ]
  },
  {
   "cell_type": "code",
   "execution_count": 458,
   "metadata": {},
   "outputs": [],
   "source": [
    "def information(df, categories=2):\n",
    "    pd.set_option('display.max_colwidth', 0)\n",
    "    df_info = pd.DataFrame()\n",
    "    df_info['null count'] = df.isna().sum()\n",
    "    df_info['dtype'] = df.dtypes\n",
    "    df_info['nunique'] = df.nunique()\n",
    "    for column in df.columns:\n",
    "        if df[column].nunique() <= categories:\n",
    "            df_info.at[column, 'categories'] = str(df[column].unique()).strip('[').strip(']').replace(\"'\",'').replace(' ',', ')\n",
    "        else:\n",
    "            df_info.at[column, 'categories'] = 'Unknown'\n",
    "    #df_info['categories'] = df_info['categories'].str.wrap(10)\n",
    "    return df_info"
   ]
  },
  {
   "cell_type": "code",
   "execution_count": 459,
   "metadata": {},
   "outputs": [
    {
     "data": {
      "text/html": [
       "<div>\n",
       "<style scoped>\n",
       "    .dataframe tbody tr th:only-of-type {\n",
       "        vertical-align: middle;\n",
       "    }\n",
       "\n",
       "    .dataframe tbody tr th {\n",
       "        vertical-align: top;\n",
       "    }\n",
       "\n",
       "    .dataframe thead th {\n",
       "        text-align: right;\n",
       "    }\n",
       "</style>\n",
       "<table border=\"1\" class=\"dataframe\">\n",
       "  <thead>\n",
       "    <tr style=\"text-align: right;\">\n",
       "      <th></th>\n",
       "      <th>id</th>\n",
       "      <th>realtionship_status</th>\n",
       "      <th>industry</th>\n",
       "      <th>genre</th>\n",
       "      <th>targeted_sex</th>\n",
       "      <th>average_runtime(minutes_per_week)</th>\n",
       "      <th>airtime</th>\n",
       "      <th>airlocation</th>\n",
       "      <th>ratings</th>\n",
       "      <th>expensive</th>\n",
       "      <th>money_back_guarantee</th>\n",
       "      <th>netgain</th>\n",
       "    </tr>\n",
       "  </thead>\n",
       "  <tbody>\n",
       "    <tr>\n",
       "      <th>0</th>\n",
       "      <td>19717</td>\n",
       "      <td>Married-spouse-absent</td>\n",
       "      <td>Auto</td>\n",
       "      <td>Comedy</td>\n",
       "      <td>Male</td>\n",
       "      <td>45</td>\n",
       "      <td>Primetime</td>\n",
       "      <td>United-States</td>\n",
       "      <td>0.027465</td>\n",
       "      <td>High</td>\n",
       "      <td>No</td>\n",
       "      <td>False</td>\n",
       "    </tr>\n",
       "    <tr>\n",
       "      <th>1</th>\n",
       "      <td>31593</td>\n",
       "      <td>Married-civ-spouse</td>\n",
       "      <td>Pharma</td>\n",
       "      <td>Comedy</td>\n",
       "      <td>Male</td>\n",
       "      <td>45</td>\n",
       "      <td>Primetime</td>\n",
       "      <td>United-States</td>\n",
       "      <td>0.027465</td>\n",
       "      <td>Low</td>\n",
       "      <td>No</td>\n",
       "      <td>False</td>\n",
       "    </tr>\n",
       "    <tr>\n",
       "      <th>2</th>\n",
       "      <td>5681</td>\n",
       "      <td>Divorced</td>\n",
       "      <td>Entertainment</td>\n",
       "      <td>Comedy</td>\n",
       "      <td>Female</td>\n",
       "      <td>45</td>\n",
       "      <td>Primetime</td>\n",
       "      <td>United-States</td>\n",
       "      <td>0.027465</td>\n",
       "      <td>High</td>\n",
       "      <td>Yes</td>\n",
       "      <td>False</td>\n",
       "    </tr>\n",
       "    <tr>\n",
       "      <th>3</th>\n",
       "      <td>15491</td>\n",
       "      <td>Separated</td>\n",
       "      <td>Political</td>\n",
       "      <td>Infomercial</td>\n",
       "      <td>Female</td>\n",
       "      <td>40</td>\n",
       "      <td>Primetime</td>\n",
       "      <td>United-States</td>\n",
       "      <td>0.027465</td>\n",
       "      <td>Low</td>\n",
       "      <td>No</td>\n",
       "      <td>False</td>\n",
       "    </tr>\n",
       "    <tr>\n",
       "      <th>4</th>\n",
       "      <td>23587</td>\n",
       "      <td>Married-civ-spouse</td>\n",
       "      <td>Pharma</td>\n",
       "      <td>Comedy</td>\n",
       "      <td>Male</td>\n",
       "      <td>48</td>\n",
       "      <td>Primetime</td>\n",
       "      <td>United-States</td>\n",
       "      <td>0.027465</td>\n",
       "      <td>High</td>\n",
       "      <td>No</td>\n",
       "      <td>True</td>\n",
       "    </tr>\n",
       "  </tbody>\n",
       "</table>\n",
       "</div>"
      ],
      "text/plain": [
       "      id    realtionship_status       industry        genre targeted_sex  \\\n",
       "0  19717  Married-spouse-absent  Auto           Comedy       Male          \n",
       "1  31593  Married-civ-spouse     Pharma         Comedy       Male          \n",
       "2  5681   Divorced               Entertainment  Comedy       Female        \n",
       "3  15491  Separated              Political      Infomercial  Female        \n",
       "4  23587  Married-civ-spouse     Pharma         Comedy       Male          \n",
       "\n",
       "   average_runtime(minutes_per_week)    airtime    airlocation   ratings  \\\n",
       "0  45                                 Primetime  United-States  0.027465   \n",
       "1  45                                 Primetime  United-States  0.027465   \n",
       "2  45                                 Primetime  United-States  0.027465   \n",
       "3  40                                 Primetime  United-States  0.027465   \n",
       "4  48                                 Primetime  United-States  0.027465   \n",
       "\n",
       "  expensive money_back_guarantee  netgain  \n",
       "0  High      No                   False    \n",
       "1  Low       No                   False    \n",
       "2  High      Yes                  False    \n",
       "3  Low       No                   False    \n",
       "4  High      No                   True     "
      ]
     },
     "execution_count": 459,
     "metadata": {},
     "output_type": "execute_result"
    }
   ],
   "source": [
    "ads = pd.read_csv('../Downloads/advertsuccess/Train.csv')\n",
    "ads.head()"
   ]
  },
  {
   "cell_type": "code",
   "execution_count": 460,
   "metadata": {},
   "outputs": [
    {
     "data": {
      "text/html": [
       "<div>\n",
       "<style scoped>\n",
       "    .dataframe tbody tr th:only-of-type {\n",
       "        vertical-align: middle;\n",
       "    }\n",
       "\n",
       "    .dataframe tbody tr th {\n",
       "        vertical-align: top;\n",
       "    }\n",
       "\n",
       "    .dataframe thead th {\n",
       "        text-align: right;\n",
       "    }\n",
       "</style>\n",
       "<table border=\"1\" class=\"dataframe\">\n",
       "  <thead>\n",
       "    <tr style=\"text-align: right;\">\n",
       "      <th></th>\n",
       "      <th>null count</th>\n",
       "      <th>dtype</th>\n",
       "      <th>nunique</th>\n",
       "      <th>categories</th>\n",
       "    </tr>\n",
       "  </thead>\n",
       "  <tbody>\n",
       "    <tr>\n",
       "      <th>id</th>\n",
       "      <td>0</td>\n",
       "      <td>int64</td>\n",
       "      <td>26048</td>\n",
       "      <td>Unknown</td>\n",
       "    </tr>\n",
       "    <tr>\n",
       "      <th>realtionship_status</th>\n",
       "      <td>0</td>\n",
       "      <td>object</td>\n",
       "      <td>7</td>\n",
       "      <td>Married-spouse-absent, Married-civ-spouse, Divorced, Separated\\n, Never-married, Widowed, Married-AF-spouse</td>\n",
       "    </tr>\n",
       "    <tr>\n",
       "      <th>industry</th>\n",
       "      <td>0</td>\n",
       "      <td>object</td>\n",
       "      <td>6</td>\n",
       "      <td>Auto, Pharma, Entertainment, Political, ClassAction, Other</td>\n",
       "    </tr>\n",
       "    <tr>\n",
       "      <th>genre</th>\n",
       "      <td>0</td>\n",
       "      <td>object</td>\n",
       "      <td>5</td>\n",
       "      <td>Comedy, Infomercial, Drama, Direct, Other</td>\n",
       "    </tr>\n",
       "    <tr>\n",
       "      <th>targeted_sex</th>\n",
       "      <td>0</td>\n",
       "      <td>object</td>\n",
       "      <td>2</td>\n",
       "      <td>Male, Female</td>\n",
       "    </tr>\n",
       "    <tr>\n",
       "      <th>average_runtime(minutes_per_week)</th>\n",
       "      <td>0</td>\n",
       "      <td>int64</td>\n",
       "      <td>91</td>\n",
       "      <td>Unknown</td>\n",
       "    </tr>\n",
       "    <tr>\n",
       "      <th>airtime</th>\n",
       "      <td>0</td>\n",
       "      <td>object</td>\n",
       "      <td>3</td>\n",
       "      <td>Primetime, Morning, Daytime</td>\n",
       "    </tr>\n",
       "    <tr>\n",
       "      <th>airlocation</th>\n",
       "      <td>0</td>\n",
       "      <td>object</td>\n",
       "      <td>42</td>\n",
       "      <td>Unknown</td>\n",
       "    </tr>\n",
       "    <tr>\n",
       "      <th>ratings</th>\n",
       "      <td>0</td>\n",
       "      <td>float64</td>\n",
       "      <td>125</td>\n",
       "      <td>Unknown</td>\n",
       "    </tr>\n",
       "    <tr>\n",
       "      <th>expensive</th>\n",
       "      <td>0</td>\n",
       "      <td>object</td>\n",
       "      <td>3</td>\n",
       "      <td>High, Low, Medium</td>\n",
       "    </tr>\n",
       "    <tr>\n",
       "      <th>money_back_guarantee</th>\n",
       "      <td>0</td>\n",
       "      <td>object</td>\n",
       "      <td>2</td>\n",
       "      <td>No, Yes</td>\n",
       "    </tr>\n",
       "    <tr>\n",
       "      <th>netgain</th>\n",
       "      <td>0</td>\n",
       "      <td>bool</td>\n",
       "      <td>2</td>\n",
       "      <td>False, , True</td>\n",
       "    </tr>\n",
       "  </tbody>\n",
       "</table>\n",
       "</div>"
      ],
      "text/plain": [
       "                                   null count    dtype  nunique  \\\n",
       "id                                 0           int64    26048     \n",
       "realtionship_status                0           object   7         \n",
       "industry                           0           object   6         \n",
       "genre                              0           object   5         \n",
       "targeted_sex                       0           object   2         \n",
       "average_runtime(minutes_per_week)  0           int64    91        \n",
       "airtime                            0           object   3         \n",
       "airlocation                        0           object   42        \n",
       "ratings                            0           float64  125       \n",
       "expensive                          0           object   3         \n",
       "money_back_guarantee               0           object   2         \n",
       "netgain                            0           bool     2         \n",
       "\n",
       "                                                                                                                                    categories  \n",
       "id                                 Unknown                                                                                                      \n",
       "realtionship_status                Married-spouse-absent, Married-civ-spouse, Divorced, Separated\\n, Never-married, Widowed, Married-AF-spouse  \n",
       "industry                           Auto, Pharma, Entertainment, Political, ClassAction, Other                                                   \n",
       "genre                              Comedy, Infomercial, Drama, Direct, Other                                                                    \n",
       "targeted_sex                       Male, Female                                                                                                 \n",
       "average_runtime(minutes_per_week)  Unknown                                                                                                      \n",
       "airtime                            Primetime, Morning, Daytime                                                                                  \n",
       "airlocation                        Unknown                                                                                                      \n",
       "ratings                            Unknown                                                                                                      \n",
       "expensive                          High, Low, Medium                                                                                            \n",
       "money_back_guarantee               No, Yes                                                                                                      \n",
       "netgain                            False, , True                                                                                                "
      ]
     },
     "execution_count": 460,
     "metadata": {},
     "output_type": "execute_result"
    }
   ],
   "source": [
    "information(ads,7)"
   ]
  },
  {
   "cell_type": "code",
   "execution_count": 455,
   "metadata": {},
   "outputs": [
    {
     "data": {
      "text/html": [
       "<div>\n",
       "<style scoped>\n",
       "    .dataframe tbody tr th:only-of-type {\n",
       "        vertical-align: middle;\n",
       "    }\n",
       "\n",
       "    .dataframe tbody tr th {\n",
       "        vertical-align: top;\n",
       "    }\n",
       "\n",
       "    .dataframe thead th {\n",
       "        text-align: right;\n",
       "    }\n",
       "</style>\n",
       "<table border=\"1\" class=\"dataframe\">\n",
       "  <thead>\n",
       "    <tr style=\"text-align: right;\">\n",
       "      <th></th>\n",
       "      <th>id</th>\n",
       "      <th>realtionship_status</th>\n",
       "      <th>industry</th>\n",
       "      <th>genre</th>\n",
       "      <th>targeted_sex</th>\n",
       "      <th>average_runtime(minutes_per_week)</th>\n",
       "      <th>airtime</th>\n",
       "      <th>airlocation</th>\n",
       "      <th>ratings</th>\n",
       "      <th>expensive</th>\n",
       "      <th>money_back_guarantee</th>\n",
       "      <th>netgain</th>\n",
       "    </tr>\n",
       "  </thead>\n",
       "  <tbody>\n",
       "    <tr>\n",
       "      <th>count</th>\n",
       "      <td>26048.000000</td>\n",
       "      <td>26048</td>\n",
       "      <td>26048</td>\n",
       "      <td>26048</td>\n",
       "      <td>26048</td>\n",
       "      <td>26048.000000</td>\n",
       "      <td>26048</td>\n",
       "      <td>26048</td>\n",
       "      <td>26048.000000</td>\n",
       "      <td>26048</td>\n",
       "      <td>26048</td>\n",
       "      <td>26048</td>\n",
       "    </tr>\n",
       "    <tr>\n",
       "      <th>unique</th>\n",
       "      <td>NaN</td>\n",
       "      <td>7</td>\n",
       "      <td>6</td>\n",
       "      <td>5</td>\n",
       "      <td>2</td>\n",
       "      <td>NaN</td>\n",
       "      <td>3</td>\n",
       "      <td>42</td>\n",
       "      <td>NaN</td>\n",
       "      <td>3</td>\n",
       "      <td>2</td>\n",
       "      <td>2</td>\n",
       "    </tr>\n",
       "    <tr>\n",
       "      <th>top</th>\n",
       "      <td>NaN</td>\n",
       "      <td>Married-civ-spouse</td>\n",
       "      <td>Pharma</td>\n",
       "      <td>Comedy</td>\n",
       "      <td>Male</td>\n",
       "      <td>NaN</td>\n",
       "      <td>Primetime</td>\n",
       "      <td>United-States</td>\n",
       "      <td>NaN</td>\n",
       "      <td>Low</td>\n",
       "      <td>Yes</td>\n",
       "      <td>False</td>\n",
       "    </tr>\n",
       "    <tr>\n",
       "      <th>freq</th>\n",
       "      <td>NaN</td>\n",
       "      <td>11844</td>\n",
       "      <td>10339</td>\n",
       "      <td>22258</td>\n",
       "      <td>17245</td>\n",
       "      <td>NaN</td>\n",
       "      <td>15652</td>\n",
       "      <td>23250</td>\n",
       "      <td>NaN</td>\n",
       "      <td>15693</td>\n",
       "      <td>13073</td>\n",
       "      <td>19853</td>\n",
       "    </tr>\n",
       "    <tr>\n",
       "      <th>mean</th>\n",
       "      <td>16268.744779</td>\n",
       "      <td>NaN</td>\n",
       "      <td>NaN</td>\n",
       "      <td>NaN</td>\n",
       "      <td>NaN</td>\n",
       "      <td>40.294111</td>\n",
       "      <td>NaN</td>\n",
       "      <td>NaN</td>\n",
       "      <td>0.038716</td>\n",
       "      <td>NaN</td>\n",
       "      <td>NaN</td>\n",
       "      <td>NaN</td>\n",
       "    </tr>\n",
       "    <tr>\n",
       "      <th>std</th>\n",
       "      <td>9413.578020</td>\n",
       "      <td>NaN</td>\n",
       "      <td>NaN</td>\n",
       "      <td>NaN</td>\n",
       "      <td>NaN</td>\n",
       "      <td>12.479457</td>\n",
       "      <td>NaN</td>\n",
       "      <td>NaN</td>\n",
       "      <td>0.075852</td>\n",
       "      <td>NaN</td>\n",
       "      <td>NaN</td>\n",
       "      <td>NaN</td>\n",
       "    </tr>\n",
       "    <tr>\n",
       "      <th>min</th>\n",
       "      <td>2.000000</td>\n",
       "      <td>NaN</td>\n",
       "      <td>NaN</td>\n",
       "      <td>NaN</td>\n",
       "      <td>NaN</td>\n",
       "      <td>1.000000</td>\n",
       "      <td>NaN</td>\n",
       "      <td>NaN</td>\n",
       "      <td>0.000000</td>\n",
       "      <td>NaN</td>\n",
       "      <td>NaN</td>\n",
       "      <td>NaN</td>\n",
       "    </tr>\n",
       "    <tr>\n",
       "      <th>25%</th>\n",
       "      <td>8095.750000</td>\n",
       "      <td>NaN</td>\n",
       "      <td>NaN</td>\n",
       "      <td>NaN</td>\n",
       "      <td>NaN</td>\n",
       "      <td>40.000000</td>\n",
       "      <td>NaN</td>\n",
       "      <td>NaN</td>\n",
       "      <td>0.027465</td>\n",
       "      <td>NaN</td>\n",
       "      <td>NaN</td>\n",
       "      <td>NaN</td>\n",
       "    </tr>\n",
       "    <tr>\n",
       "      <th>50%</th>\n",
       "      <td>16237.000000</td>\n",
       "      <td>NaN</td>\n",
       "      <td>NaN</td>\n",
       "      <td>NaN</td>\n",
       "      <td>NaN</td>\n",
       "      <td>40.000000</td>\n",
       "      <td>NaN</td>\n",
       "      <td>NaN</td>\n",
       "      <td>0.027465</td>\n",
       "      <td>NaN</td>\n",
       "      <td>NaN</td>\n",
       "      <td>NaN</td>\n",
       "    </tr>\n",
       "    <tr>\n",
       "      <th>75%</th>\n",
       "      <td>24413.500000</td>\n",
       "      <td>NaN</td>\n",
       "      <td>NaN</td>\n",
       "      <td>NaN</td>\n",
       "      <td>NaN</td>\n",
       "      <td>45.000000</td>\n",
       "      <td>NaN</td>\n",
       "      <td>NaN</td>\n",
       "      <td>0.027465</td>\n",
       "      <td>NaN</td>\n",
       "      <td>NaN</td>\n",
       "      <td>NaN</td>\n",
       "    </tr>\n",
       "    <tr>\n",
       "      <th>max</th>\n",
       "      <td>32561.000000</td>\n",
       "      <td>NaN</td>\n",
       "      <td>NaN</td>\n",
       "      <td>NaN</td>\n",
       "      <td>NaN</td>\n",
       "      <td>99.000000</td>\n",
       "      <td>NaN</td>\n",
       "      <td>NaN</td>\n",
       "      <td>1.000000</td>\n",
       "      <td>NaN</td>\n",
       "      <td>NaN</td>\n",
       "      <td>NaN</td>\n",
       "    </tr>\n",
       "  </tbody>\n",
       "</table>\n",
       "</div>"
      ],
      "text/plain": [
       "                  id realtionship_status industry   genre targeted_sex  \\\n",
       "count   26048.000000  26048               26048    26048   26048         \n",
       "unique NaN            7                   6        5       2             \n",
       "top    NaN            Married-civ-spouse  Pharma   Comedy  Male          \n",
       "freq   NaN            11844               10339    22258   17245         \n",
       "mean    16268.744779  NaN                 NaN      NaN     NaN           \n",
       "std     9413.578020   NaN                 NaN      NaN     NaN           \n",
       "min     2.000000      NaN                 NaN      NaN     NaN           \n",
       "25%     8095.750000   NaN                 NaN      NaN     NaN           \n",
       "50%     16237.000000  NaN                 NaN      NaN     NaN           \n",
       "75%     24413.500000  NaN                 NaN      NaN     NaN           \n",
       "max     32561.000000  NaN                 NaN      NaN     NaN           \n",
       "\n",
       "        average_runtime(minutes_per_week)    airtime    airlocation  \\\n",
       "count   26048.000000                       26048      26048           \n",
       "unique NaN                                 3          42              \n",
       "top    NaN                                 Primetime  United-States   \n",
       "freq   NaN                                 15652      23250           \n",
       "mean    40.294111                          NaN        NaN             \n",
       "std     12.479457                          NaN        NaN             \n",
       "min     1.000000                           NaN        NaN             \n",
       "25%     40.000000                          NaN        NaN             \n",
       "50%     40.000000                          NaN        NaN             \n",
       "75%     45.000000                          NaN        NaN             \n",
       "max     99.000000                          NaN        NaN             \n",
       "\n",
       "             ratings expensive money_back_guarantee netgain  \n",
       "count   26048.000000  26048     26048                26048   \n",
       "unique NaN            3         2                    2       \n",
       "top    NaN            Low       Yes                  False   \n",
       "freq   NaN            15693     13073                19853   \n",
       "mean    0.038716      NaN       NaN                  NaN     \n",
       "std     0.075852      NaN       NaN                  NaN     \n",
       "min     0.000000      NaN       NaN                  NaN     \n",
       "25%     0.027465      NaN       NaN                  NaN     \n",
       "50%     0.027465      NaN       NaN                  NaN     \n",
       "75%     0.027465      NaN       NaN                  NaN     \n",
       "max     1.000000      NaN       NaN                  NaN     "
      ]
     },
     "execution_count": 455,
     "metadata": {},
     "output_type": "execute_result"
    }
   ],
   "source": [
    "ads.describe(include='all')"
   ]
  },
  {
   "cell_type": "code",
   "execution_count": 464,
   "metadata": {},
   "outputs": [
    {
     "data": {
      "image/png": "[encoded data removed]",
      "text/plain": [
       "<Figure size 1080x288 with 4 Axes>"
      ]
     },
     "metadata": {},
     "output_type": "display_data"
    }
   ],
   "source": [
    "plt.figure(figsize=(15,4))\n",
    "\n",
    "plt.subplot(141)\n",
    "sns.countplot(ads.expensive, palette='Blues_d')\n",
    "\n",
    "plt.subplot(142)\n",
    "sns.countplot(ads.airtime, palette='Reds_d')\n",
    "\n",
    "plt.subplot(143)\n",
    "sns.countplot(ads.expensive, hue=ads.airtime, palette='Greens_d')\n",
    "\n",
    "plt.subplot(144)\n",
    "sns.countplot(ads.targeted_sex, palette='winter')\n",
    "plt.show()"
   ]
  },
  {
   "cell_type": "markdown",
   "metadata": {},
   "source": [
    "> There are far more 'Low' expenditure ads than any other kind, with the bulk of add spending coming during primetime, regardless of expenditure. Most of these ads also target males."
   ]
  },
  {
   "cell_type": "markdown",
   "metadata": {},
   "source": [
    "# Daytime vs. Primetime Advertising\n",
    "### The sought-out solution:\n",
    "+ With this experiment, we intend to discover which time of day Pharma Company X should advertisw most heavily. We believe that loading ads during critical hours will increase netgain.\n",
    "\n",
    "### Rollout Plan:\n",
    "+ With this experiment we aim to determine whether airing ads in primetime or in the daytime for Pharma Company X results in a higher netgain for the company. This experiment will be conducted over the span of the next four months of late spring and summer. We will run a suite of ads, with of average monthly runtime divided by two, during daytime hours for the first month and the repeat the process for primetime hours during the third month. The netgain will be measured during the month following each advertising period to measure the affects of the ads without having to consider overlapping results. E.g. If an ad typically runs for 40 minutes a month between both primetikme ad daytime, we will reduce its runtime to 20 minutes per month and run it only during the daytikme or primetime, depending of which phase of the experiment we are running.\n",
    "\n",
    "### Two Versions: \n",
    "+ **Primetime** ads and **Daytime** ads. For our purposes, we will combine the 'Morning' and 'Daytime' categories from the `airtime` variable into a single 'Daytime' category.\n",
    "\n",
    "### Hypothesis:\n",
    "+ We expect that primetime advertisements will result in a higher netgain than daytime advertisements.\n",
    "> Null Hypothesis: there is no difference in average netgain between primetime and daytime advertising\n",
    "\n",
    "### Key metric:\n",
    "+ netgain\n",
    "\n",
    "### Secondary metrics:\n",
    "+ We will check to see how airtime and genre of advertisement are affected.\n",
    "\n",
    "> In order to approximate this experiment with pre-existing data, we will select our data to reflect a single location (USA), industry (Pharma) and expenditure (Low). The result of these selections will also result in a single ad-targeted gender (Male) by default."
   ]
  },
  {
   "cell_type": "code",
   "execution_count": 467,
   "metadata": {},
   "outputs": [
    {
     "name": "stderr",
     "output_type": "stream",
     "text": [
      "/home/uzi/.venv/lib/python3.6/site-packages/ipykernel_launcher.py:1: UserWarning: Boolean Series key will be reindexed to match DataFrame index.\n",
      "  \"\"\"Entry point for launching an IPython kernel.\n"
     ]
    }
   ],
   "source": [
    "pharma = ads[ads.industry == 'Pharma'][ads.airlocation == 'United-States'].reset_index()\n",
    "pharma = pharma[pharma.expensive == 'Low']\n",
    "del pharma['index']\n",
    "pharma.loc[pharma.airtime == 'Morning', 'airtime'] = 'Daytime'"
   ]
  },
  {
   "cell_type": "code",
   "execution_count": 466,
   "metadata": {},
   "outputs": [
    {
     "data": {
      "text/html": [
       "<div>\n",
       "<style scoped>\n",
       "    .dataframe tbody tr th:only-of-type {\n",
       "        vertical-align: middle;\n",
       "    }\n",
       "\n",
       "    .dataframe tbody tr th {\n",
       "        vertical-align: top;\n",
       "    }\n",
       "\n",
       "    .dataframe thead th {\n",
       "        text-align: right;\n",
       "    }\n",
       "</style>\n",
       "<table border=\"1\" class=\"dataframe\">\n",
       "  <thead>\n",
       "    <tr style=\"text-align: right;\">\n",
       "      <th></th>\n",
       "      <th>id</th>\n",
       "      <th>realtionship_status</th>\n",
       "      <th>industry</th>\n",
       "      <th>genre</th>\n",
       "      <th>targeted_sex</th>\n",
       "      <th>average_runtime(minutes_per_week)</th>\n",
       "      <th>airtime</th>\n",
       "      <th>airlocation</th>\n",
       "      <th>ratings</th>\n",
       "      <th>expensive</th>\n",
       "      <th>money_back_guarantee</th>\n",
       "      <th>netgain</th>\n",
       "    </tr>\n",
       "  </thead>\n",
       "  <tbody>\n",
       "    <tr>\n",
       "      <th>0</th>\n",
       "      <td>31593</td>\n",
       "      <td>Married-civ-spouse</td>\n",
       "      <td>Pharma</td>\n",
       "      <td>Comedy</td>\n",
       "      <td>Male</td>\n",
       "      <td>45</td>\n",
       "      <td>Primetime</td>\n",
       "      <td>United-States</td>\n",
       "      <td>0.027465</td>\n",
       "      <td>Low</td>\n",
       "      <td>No</td>\n",
       "      <td>False</td>\n",
       "    </tr>\n",
       "    <tr>\n",
       "      <th>1</th>\n",
       "      <td>23587</td>\n",
       "      <td>Married-civ-spouse</td>\n",
       "      <td>Pharma</td>\n",
       "      <td>Comedy</td>\n",
       "      <td>Male</td>\n",
       "      <td>48</td>\n",
       "      <td>Primetime</td>\n",
       "      <td>United-States</td>\n",
       "      <td>0.027465</td>\n",
       "      <td>High</td>\n",
       "      <td>No</td>\n",
       "      <td>True</td>\n",
       "    </tr>\n",
       "    <tr>\n",
       "      <th>2</th>\n",
       "      <td>21312</td>\n",
       "      <td>Married-civ-spouse</td>\n",
       "      <td>Pharma</td>\n",
       "      <td>Comedy</td>\n",
       "      <td>Male</td>\n",
       "      <td>40</td>\n",
       "      <td>Daytime</td>\n",
       "      <td>United-States</td>\n",
       "      <td>0.027465</td>\n",
       "      <td>High</td>\n",
       "      <td>No</td>\n",
       "      <td>False</td>\n",
       "    </tr>\n",
       "    <tr>\n",
       "      <th>3</th>\n",
       "      <td>9457</td>\n",
       "      <td>Married-civ-spouse</td>\n",
       "      <td>Pharma</td>\n",
       "      <td>Comedy</td>\n",
       "      <td>Male</td>\n",
       "      <td>72</td>\n",
       "      <td>Daytime</td>\n",
       "      <td>United-States</td>\n",
       "      <td>0.057643</td>\n",
       "      <td>Low</td>\n",
       "      <td>Yes</td>\n",
       "      <td>False</td>\n",
       "    </tr>\n",
       "    <tr>\n",
       "      <th>4</th>\n",
       "      <td>5380</td>\n",
       "      <td>Married-civ-spouse</td>\n",
       "      <td>Pharma</td>\n",
       "      <td>Comedy</td>\n",
       "      <td>Male</td>\n",
       "      <td>56</td>\n",
       "      <td>Daytime</td>\n",
       "      <td>United-States</td>\n",
       "      <td>0.173580</td>\n",
       "      <td>Medium</td>\n",
       "      <td>No</td>\n",
       "      <td>True</td>\n",
       "    </tr>\n",
       "  </tbody>\n",
       "</table>\n",
       "</div>"
      ],
      "text/plain": [
       "      id realtionship_status industry   genre targeted_sex  \\\n",
       "0  31593  Married-civ-spouse  Pharma   Comedy  Male          \n",
       "1  23587  Married-civ-spouse  Pharma   Comedy  Male          \n",
       "2  21312  Married-civ-spouse  Pharma   Comedy  Male          \n",
       "3  9457   Married-civ-spouse  Pharma   Comedy  Male          \n",
       "4  5380   Married-civ-spouse  Pharma   Comedy  Male          \n",
       "\n",
       "   average_runtime(minutes_per_week)    airtime    airlocation   ratings  \\\n",
       "0  45                                 Primetime  United-States  0.027465   \n",
       "1  48                                 Primetime  United-States  0.027465   \n",
       "2  40                                 Daytime    United-States  0.027465   \n",
       "3  72                                 Daytime    United-States  0.057643   \n",
       "4  56                                 Daytime    United-States  0.173580   \n",
       "\n",
       "  expensive money_back_guarantee  netgain  \n",
       "0  Low       No                   False    \n",
       "1  High      No                   True     \n",
       "2  High      No                   False    \n",
       "3  Low       Yes                  False    \n",
       "4  Medium    No                   True     "
      ]
     },
     "execution_count": 466,
     "metadata": {},
     "output_type": "execute_result"
    }
   ],
   "source": [
    "pharma.head()"
   ]
  },
  {
   "cell_type": "code",
   "execution_count": 470,
   "metadata": {},
   "outputs": [
    {
     "data": {
      "text/plain": [
       "array(['Male'], dtype=object)"
      ]
     },
     "execution_count": 470,
     "metadata": {},
     "output_type": "execute_result"
    }
   ],
   "source": [
    "# Verifying target gender distribution\n",
    "pharma.targeted_sex.unique()"
   ]
  },
  {
   "cell_type": "code",
   "execution_count": 471,
   "metadata": {},
   "outputs": [
    {
     "data": {
      "text/plain": [
       "0    40\n",
       "dtype: int64"
      ]
     },
     "execution_count": 471,
     "metadata": {},
     "output_type": "execute_result"
    }
   ],
   "source": [
    "pharma['average_runtime(minutes_per_week)'].mode()"
   ]
  },
  {
   "cell_type": "code",
   "execution_count": 474,
   "metadata": {},
   "outputs": [
    {
     "data": {
      "text/plain": [
       "2628"
      ]
     },
     "execution_count": 474,
     "metadata": {},
     "output_type": "execute_result"
    }
   ],
   "source": [
    "pharma[pharma['average_runtime(minutes_per_week)'] == 40].count()[0]"
   ]
  },
  {
   "cell_type": "code",
   "execution_count": 473,
   "metadata": {},
   "outputs": [
    {
     "data": {
      "text/plain": [
       "43.65869218500797"
      ]
     },
     "execution_count": 473,
     "metadata": {},
     "output_type": "execute_result"
    }
   ],
   "source": [
    "pharma['average_runtime(minutes_per_week)'].mean()"
   ]
  },
  {
   "cell_type": "markdown",
   "metadata": {},
   "source": [
    "> Since the mean runtime length for an ad is 43.7 minutes, and the mode is 40 (with 2628 observations), for the purposes of this hypothetical experiment we will reduce our dataset to include runtimes of 40 minutes only. We can then use this dataset as a substitute for having captured 20 minutes of monthly daytime and primetime (40 minutes total) advertising during the entire experiment. This will leave us with 2,628 observations with which to run a t-test."
   ]
  },
  {
   "cell_type": "code",
   "execution_count": 476,
   "metadata": {},
   "outputs": [
    {
     "data": {
      "text/plain": [
       "2628"
      ]
     },
     "execution_count": 476,
     "metadata": {},
     "output_type": "execute_result"
    }
   ],
   "source": [
    "# Confirming observation number\n",
    "pharma = pharma[pharma['average_runtime(minutes_per_week)'] == 40]\n",
    "len(pharma)"
   ]
  },
  {
   "cell_type": "code",
   "execution_count": 480,
   "metadata": {},
   "outputs": [],
   "source": [
    "pharma['is_primetime'] = pd.get_dummies(pharma.airtime, drop_first=True)"
   ]
  },
  {
   "cell_type": "code",
   "execution_count": 485,
   "metadata": {},
   "outputs": [
    {
     "data": {
      "text/plain": [
       "array(['Comedy', 'Infomercial', 'Direct', 'Drama', 'Other'], dtype=object)"
      ]
     },
     "execution_count": 485,
     "metadata": {},
     "output_type": "execute_result"
    }
   ],
   "source": [
    "pharma.genre.unique()"
   ]
  },
  {
   "cell_type": "code",
   "execution_count": 487,
   "metadata": {},
   "outputs": [
    {
     "name": "stdout",
     "output_type": "stream",
     "text": [
      "Primetime sample size: 2065\n",
      "Daytime sample size: 563\n",
      "Primetime proportion: 0.7857686453576864\n",
      "\n",
      "Primetime mean netgain: 0.45084745762711864\n",
      "Daytime mean netgain: 0.23801065719360567\n"
     ]
    },
    {
     "data": {
      "text/plain": [
       "Ttest_indResult(statistic=9.26264918086803, pvalue=4.023398498534873e-20)"
      ]
     },
     "execution_count": 487,
     "metadata": {},
     "output_type": "execute_result"
    }
   ],
   "source": [
    "# How large is each group?\n",
    "print('Primetime sample size:', len(pharma[pharma.is_primetime == 1]))\n",
    "print('Daytime sample size:', len(pharma[pharma.is_primetime == 0]))\n",
    "print('Primetime proportion:', pharma.is_primetime.mean())\n",
    "print()\n",
    "\n",
    "# What is the netgain of test and control?\n",
    "print('Primetime mean netgain:', pharma[pharma.is_primetime == 1].netgain.mean())\n",
    "print('Daytime mean netgain:', pharma[pharma.is_primetime == 0].netgain.mean())\n",
    "\n",
    "# Are the test and control groups significantly different?\n",
    "stats.ttest_ind(pharma[pharma.is_primetime == 1].netgain,\n",
    "                pharma[pharma.is_primetime == 0].netgain)"
   ]
  },
  {
   "cell_type": "markdown",
   "metadata": {},
   "source": [
    "# Results:\n",
    ">With a p-value < 0.05, we reject our null hypothesis that the difference between the average netgain for primetime and daytime are the same.\n",
    "\n",
    "# Secondary metrics"
   ]
  },
  {
   "cell_type": "code",
   "execution_count": 488,
   "metadata": {},
   "outputs": [
    {
     "data": {
      "text/plain": [
       "array(['Comedy', 'Infomercial', 'Direct', 'Drama', 'Other'], dtype=object)"
      ]
     },
     "execution_count": 488,
     "metadata": {},
     "output_type": "execute_result"
    }
   ],
   "source": [
    "pharma.genre.unique()"
   ]
  },
  {
   "cell_type": "code",
   "execution_count": 491,
   "metadata": {},
   "outputs": [
    {
     "name": "stdout",
     "output_type": "stream",
     "text": [
      "Primetime Comedy netgain mean: 0.4581779435269046\n",
      "Daytime Comedy netgain mean: 0.229126213592233\n",
      "****************************************************************************************************\n",
      "Primetime Infomercial netgain mean: 0.3419354838709677\n",
      "Daytime Infomercial netgain mean: 0.3225806451612903\n",
      "****************************************************************************************************\n",
      "Primetime Direct netgain mean: 0.5333333333333333\n",
      "Daytime Direct netgain mean: 0.16666666666666666\n",
      "****************************************************************************************************\n",
      "Primetime Drama netgain mean: 0.6\n",
      "Daytime Drama netgain mean: 0.45454545454545453\n",
      "****************************************************************************************************\n",
      "Primetime Other netgain mean: 0.3333333333333333\n",
      "Daytime Other netgain mean: nan\n",
      "****************************************************************************************************\n"
     ]
    },
    {
     "name": "stderr",
     "output_type": "stream",
     "text": [
      "/home/uzi/.venv/lib/python3.6/site-packages/ipykernel_launcher.py:2: UserWarning: Boolean Series key will be reindexed to match DataFrame index.\n",
      "  \n",
      "/home/uzi/.venv/lib/python3.6/site-packages/ipykernel_launcher.py:3: UserWarning: Boolean Series key will be reindexed to match DataFrame index.\n",
      "  This is separate from the ipykernel package so we can avoid doing imports until\n"
     ]
    }
   ],
   "source": [
    "for genre in pharma.genre.unique():\n",
    "    print(f'Primetime {genre} netgain mean: {pharma[pharma.genre == genre][pharma.is_primetime == 1].netgain.mean()}')\n",
    "    print(f'Daytime {genre} netgain mean: {pharma[pharma.genre == genre][pharma.is_primetime == 0].netgain.mean()}')\n",
    "    print('*'*100)"
   ]
  },
  {
   "cell_type": "markdown",
   "metadata": {},
   "source": [
    "> In a real world experiment, you probably wouldn't be able to run this experiment with a single genre of commercial, so since we've determined that primetime advertising 'probably' results in a higher net gain than daytime, it might be useful for Pharma Company X to lean heavier towards dramatic commercial and direct commercials than, say, infomercials."
   ]
  },
  {
   "cell_type": "code",
   "execution_count": null,
   "metadata": {},
   "outputs": [],
   "source": []
  }
 ],
 "metadata": {
  "kernelspec": {
   "display_name": "Python 3",
   "language": "python",
   "name": "python3"
  },
  "language_info": {
   "codemirror_mode": {
    "name": "ipython",
    "version": 3
   },
   "file_extension": ".py",
   "mimetype": "text/x-python",
   "name": "python",
   "nbconvert_exporter": "python",
   "pygments_lexer": "ipython3",
   "version": "3.6.8"
  }
 },
 "nbformat": 4,
 "nbformat_minor": 2
}
